{
 "cells": [
  {
   "cell_type": "code",
   "execution_count": 18,
   "id": "b4a6ff05",
   "metadata": {},
   "outputs": [],
   "source": [
    "import pandas as pd\n",
    "\n",
    "test_Students = pd.read_csv(\"processed_test_student.csv\")\n",
    "test_Students.rename(columns={\"UID\": \"id\"}, inplace=True)\n",
    "\n",
    "# Load predictions from CSV files\n",
    "import glob\n",
    "pred_files = glob.glob(\"predictions/*.csv\")\n",
    "for file in pred_files:\n",
    "    # Read the prediction file as a DataFrame\n",
    "    pred_df = pd.read_csv(file)\n",
    "    # merge with the test data on 'id'\n",
    "    pred_df = pd.merge(test_Students, pred_df, on=\"id\", how=\"left\")\n",
    "    # Fill empty values with 0\n",
    "    pred_df.fillna(0, inplace=True)\n",
    "    pred_df.rename(columns={\"id\": \"UID\"}, inplace=True)\n",
    "    # Save the final test data with predictions\n",
    "    pred_df.to_csv(f\"pred_final/{file}\", index=False)  "
   ]
  },
  {
   "cell_type": "code",
   "execution_count": null,
   "id": "d42507f3",
   "metadata": {},
   "outputs": [],
   "source": []
  }
 ],
 "metadata": {
  "kernelspec": {
   "display_name": "bitirme",
   "language": "python",
   "name": "python3"
  },
  "language_info": {
   "codemirror_mode": {
    "name": "ipython",
    "version": 3
   },
   "file_extension": ".py",
   "mimetype": "text/x-python",
   "name": "python",
   "nbconvert_exporter": "python",
   "pygments_lexer": "ipython3",
   "version": "3.9.21"
  }
 },
 "nbformat": 4,
 "nbformat_minor": 5
}
